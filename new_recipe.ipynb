{
 "cells": [
  {
   "cell_type": "code",
   "execution_count": 21,
   "id": "14612e2d-eb6b-47b9-a7f7-b08f1d1e8862",
   "metadata": {},
   "outputs": [],
   "source": [
    "from transformers import GPT2LMHeadModel, GPT2Tokenizer\n",
    "\n",
    "model_name = \"gpt2\"  # You can also use fine-tuned versions if available\n",
    "tokenizer = GPT2Tokenizer.from_pretrained(model_name)\n",
    "model = GPT2LMHeadModel.from_pretrained(model_name)\n"
   ]
  },
  {
   "cell_type": "code",
   "execution_count": 35,
   "id": "a210b885-20cb-4d66-845a-abb4130d772b",
   "metadata": {},
   "outputs": [],
   "source": [
    "from langchain.vectorstores import FAISS\n",
    "from langchain.embeddings import OpenAIEmbeddings\n",
    "from langchain.document_loaders import UnstructuredURLLoader\n",
    "from langchain.prompts import PromptTemplate\n",
    "from langchain.chains import RetrievalQA\n",
    "from langchain.embeddings import HuggingFaceEmbeddings\n",
    "from langchain.llms import HuggingFacePipeline\n",
    "from transformers import pipeline\n"
   ]
  },
  {
   "cell_type": "code",
   "execution_count": 23,
   "id": "98ddce2a-439a-4667-b9a5-4ac5d5a5bb26",
   "metadata": {},
   "outputs": [],
   "source": [
    "\n",
    "\n",
    "loaders = UnstructuredURLLoader(urls=[\n",
    "    \"https://www.indianhealthyrecipes.com/chicken-kebab-recipe-chicken-kabab/\",\n",
    "    \"https://cooktoria.com/easy-chicken-kebabs/\"\n",
    "])\n",
    "data = loaders.load() \n"
   ]
  },
  {
   "cell_type": "code",
   "execution_count": 26,
   "id": "a1512c5f-4257-44b0-95ea-2839697bc379",
   "metadata": {},
   "outputs": [],
   "source": [
    "# Use Hugging Face embeddings\n",
    "embedding_model = \"sentence-transformers/all-MiniLM-L6-v2\"\n",
    "embeddings = HuggingFaceEmbeddings(model_name=embedding_model)"
   ]
  },
  {
   "cell_type": "code",
   "execution_count": 27,
   "id": "60fb3f3a-cdd4-4194-a8f6-e198440cd2bd",
   "metadata": {},
   "outputs": [],
   "source": [
    "\n",
    "# Create a FAISS index\n",
    "faiss_index = FAISS.from_documents(data, embeddings)"
   ]
  },
  {
   "cell_type": "code",
   "execution_count": 47,
   "id": "328d8582-bd58-4c7c-8e01-6402e37655ec",
   "metadata": {},
   "outputs": [
    {
     "name": "stderr",
     "output_type": "stream",
     "text": [
      "Device set to use mps:0\n"
     ]
    }
   ],
   "source": [
    "generation_pipeline = pipeline(\n",
    "    \"text-generation\",\n",
    "    model=model,\n",
    "    tokenizer=tokenizer,\n",
    "    max_length=1024,\n",
    "    temperature=0.7,\n",
    "    top_k=50\n",
    ")\n",
    "llm = HuggingFacePipeline(pipeline=generation_pipeline)"
   ]
  },
  {
   "cell_type": "code",
   "execution_count": 49,
   "id": "34024097-3914-4fca-ab00-1d1519c8e50e",
   "metadata": {},
   "outputs": [],
   "source": [
    "llm = HuggingFacePipeline(pipeline=generation_pipeline)"
   ]
  },
  {
   "cell_type": "code",
   "execution_count": 55,
   "id": "b1b080f8-bb07-4ad2-88a7-70fdf050bb4f",
   "metadata": {},
   "outputs": [],
   "source": [
    "# Create Retrieval-Augmented Generation chain\n",
    "qa_chain = RetrievalQA.from_chain_type(\n",
    "    llm=llm,\n",
    "    retriever=faiss_index.as_retriever(),\n",
    "    chain_type=\"refine\"\n",
    ")"
   ]
  },
  {
   "cell_type": "code",
   "execution_count": null,
   "id": "63094195-256d-4e56-a0c5-7ec647a7e9f9",
   "metadata": {},
   "outputs": [
    {
     "name": "stderr",
     "output_type": "stream",
     "text": [
      "Setting `pad_token_id` to `eos_token_id`:50256 for open-end generation.\n",
      "Setting `pad_token_id` to `eos_token_id`:50256 for open-end generation.\n"
     ]
    }
   ],
   "source": [
    "query = \"How to make a kebab\"\n",
    "result = qa_chain.run(query)\n",
    "print(result)"
   ]
  },
  {
   "cell_type": "code",
   "execution_count": null,
   "id": "433d4c32-d313-454e-8274-4f3a6e83bbcc",
   "metadata": {},
   "outputs": [],
   "source": []
  }
 ],
 "metadata": {
  "kernelspec": {
   "display_name": "Python [conda env:llms] *",
   "language": "python",
   "name": "conda-env-llms-py"
  },
  "language_info": {
   "codemirror_mode": {
    "name": "ipython",
    "version": 3
   },
   "file_extension": ".py",
   "mimetype": "text/x-python",
   "name": "python",
   "nbconvert_exporter": "python",
   "pygments_lexer": "ipython3",
   "version": "3.11.11"
  }
 },
 "nbformat": 4,
 "nbformat_minor": 5
}
